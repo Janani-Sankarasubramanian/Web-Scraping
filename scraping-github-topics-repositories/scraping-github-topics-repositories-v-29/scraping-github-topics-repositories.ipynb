{
 "cells": [
  {
   "cell_type": "markdown",
   "metadata": {},
   "source": [
    "# Scraping Top repositories for Topics on GitHub\n",
    "\n",
    "Web scraping is a technique for extracting information from websites. It allows you to acquire non-tabular or poorly structured data from websites and convert it into a usable, structured format, such as a .csv file or spreadsheet.\n",
    "\n",
    "GitHub is a website that helps developers store and manage their code, as well as track and control changes to their code. \n",
    "\n",
    "We will be using tools Python's requests, BeautifulSoup and Pandas library to scrape Github pages.\n",
    "\n",
    "Here are the steps we'll follow:\n",
    "- We are going to scrape https://github.com/topics\n",
    "- We'll get a list of topics. For each topic, we'll get topic title, topic page URL and topic description. \n",
    "- For each topic, we'll get the top 25 repositories in the topic from the topic page.\n",
    "- For each repository, we'll grab the repo name, username, stars and repo URL.\n",
    "- For each topic, we'll create CSV file. \n"
   ]
  },
  {
   "cell_type": "markdown",
   "metadata": {},
   "source": [
    "## Scrape the list of topics from GitHub\n",
    "\n",
    "- Use requests to download the page.\n",
    "- Use BeautifulSoup to parse and extract information.\n",
    "- Convert to a Pandas DataFrame. \n",
    "\n",
    "Let's write a function to download the page."
   ]
  },
  {
   "cell_type": "code",
   "execution_count": 63,
   "metadata": {},
   "outputs": [],
   "source": [
    "!pip install requests beautifulsoup4 pandas --upgrade --quiet"
   ]
  },
  {
   "cell_type": "code",
   "execution_count": 32,
   "metadata": {},
   "outputs": [],
   "source": [
    "import requests\n",
    "from bs4 import BeautifulSoup\n",
    "import pandas as pd\n",
    "def get_topic_page():\n",
    "    #Returns a BeautifulSoup doc which contains a parsed webpage which points to to the list of topics on GitHub\n",
    "    topics_url = 'https://github.com/topics'\n",
    "    response = requests.get(topics_url)\n",
    "    #Check a successful response\n",
    "    if response.status_code != 200:\n",
    "        raise Exception('Failed to load page {}'.format(topic_url))\n",
    "\n",
    "    #Parse using Beautiful Soup\n",
    "    topic_doc = BeautifulSoup(response.text, 'html.parser')\n",
    "    return topic_doc"
   ]
  },
  {
   "cell_type": "code",
   "execution_count": 33,
   "metadata": {},
   "outputs": [],
   "source": [
    "doc = get_topic_page()"
   ]
  },
  {
   "cell_type": "markdown",
   "metadata": {},
   "source": [
    "The document will be of type BeautifulSoup and we can use this document to find some tags such as 'a'."
   ]
  },
  {
   "cell_type": "code",
   "execution_count": 34,
   "metadata": {},
   "outputs": [
    {
     "data": {
      "text/plain": [
       "bs4.BeautifulSoup"
      ]
     },
     "execution_count": 34,
     "metadata": {},
     "output_type": "execute_result"
    }
   ],
   "source": [
    "type(doc)"
   ]
  },
  {
   "cell_type": "markdown",
   "metadata": {},
   "source": [
    "Let's create some helper functions to parse information from the page.\n",
    "\n",
    "To get topic titles, we can pick `p` tags with the `class` : `f3 lh-condensed mb-0 mt-1 Link--primary`\n",
    "\n",
    "![.](https://i.imgur.com/NUOa4Qy.png)"
   ]
  },
  {
   "cell_type": "code",
   "execution_count": 35,
   "metadata": {},
   "outputs": [],
   "source": [
    "def get_topic_titles(doc):\n",
    "    selection_class = 'f3 lh-condensed mb-0 mt-1 Link--primary'\n",
    "    topic_title_tags = doc.find_all('p', {'class':selection_class})\n",
    "    topic_titles = []\n",
    "    for tag in topic_title_tags:\n",
    "        topic_titles.append(tag.text)\n",
    "    return topic_titles"
   ]
  },
  {
   "cell_type": "markdown",
   "metadata": {},
   "source": [
    "`get_topic_titles` can be used to get the list of titles."
   ]
  },
  {
   "cell_type": "code",
   "execution_count": 36,
   "metadata": {},
   "outputs": [],
   "source": [
    "titles = get_topic_titles(doc)"
   ]
  },
  {
   "cell_type": "code",
   "execution_count": 37,
   "metadata": {},
   "outputs": [
    {
     "data": {
      "text/plain": [
       "30"
      ]
     },
     "execution_count": 37,
     "metadata": {},
     "output_type": "execute_result"
    }
   ],
   "source": [
    "len(titles)"
   ]
  },
  {
   "cell_type": "code",
   "execution_count": 38,
   "metadata": {},
   "outputs": [
    {
     "data": {
      "text/plain": [
       "['3D', 'Ajax', 'Algorithm', 'Amp', 'Android']"
      ]
     },
     "execution_count": 38,
     "metadata": {},
     "output_type": "execute_result"
    }
   ],
   "source": [
    "titles[:5]"
   ]
  },
  {
   "cell_type": "markdown",
   "metadata": {},
   "source": [
    "Similarly we have defined functions for descriptions and URLs."
   ]
  },
  {
   "cell_type": "code",
   "execution_count": 39,
   "metadata": {},
   "outputs": [],
   "source": [
    "def get_topic_descs(doc):\n",
    "    desc_selector = 'f5 color-text-secondary mb-0 mt-1'             \n",
    "    topic_desc_tags = doc.find_all('p', {'class': desc_selector})\n",
    "    topic_descriptions = []\n",
    "    for tag in topic_desc_tags:\n",
    "        topic_descriptions.append(tag.text.strip())\n",
    "    return topic_descriptions"
   ]
  },
  {
   "cell_type": "code",
   "execution_count": 40,
   "metadata": {},
   "outputs": [],
   "source": [
    "descriptions = get_topic_descs(doc)"
   ]
  },
  {
   "cell_type": "code",
   "execution_count": 41,
   "metadata": {},
   "outputs": [
    {
     "data": {
      "text/plain": [
       "30"
      ]
     },
     "execution_count": 41,
     "metadata": {},
     "output_type": "execute_result"
    }
   ],
   "source": [
    "len(descriptions)"
   ]
  },
  {
   "cell_type": "code",
   "execution_count": 42,
   "metadata": {},
   "outputs": [
    {
     "data": {
      "text/plain": [
       "['3D modeling is the process of virtually developing the surface and structure of a 3D object.',\n",
       " 'Ajax is a technique for creating interactive web applications.',\n",
       " 'Algorithms are self-contained sequences that carry out a variety of tasks.',\n",
       " 'Amp is a non-blocking concurrency framework for PHP.',\n",
       " 'Android is an operating system built by Google designed for mobile devices.']"
      ]
     },
     "execution_count": 42,
     "metadata": {},
     "output_type": "execute_result"
    }
   ],
   "source": [
    "descriptions[:5]"
   ]
  },
  {
   "cell_type": "markdown",
   "metadata": {},
   "source": [
    "To get topic urls, we can pick `a` tags with the `class` : `d-flex no-underline`\n",
    "![.](https://i.imgur.com/MJsNDWQ.png)"
   ]
  },
  {
   "cell_type": "code",
   "execution_count": 43,
   "metadata": {},
   "outputs": [],
   "source": [
    "def get_topic_urls(doc):    \n",
    "    topic_link_tags = doc.find_all('a', {'class': 'd-flex no-underline'})\n",
    "    topic_urls = []\n",
    "    base_url = \"https://github.com\" \n",
    "    for tag in topic_link_tags:\n",
    "        topic_urls.append(base_url + tag['href'])\n",
    "    return topic_urls"
   ]
  },
  {
   "cell_type": "code",
   "execution_count": 44,
   "metadata": {},
   "outputs": [],
   "source": [
    "URL = get_topic_urls(doc)"
   ]
  },
  {
   "cell_type": "code",
   "execution_count": 45,
   "metadata": {},
   "outputs": [
    {
     "data": {
      "text/plain": [
       "30"
      ]
     },
     "execution_count": 45,
     "metadata": {},
     "output_type": "execute_result"
    }
   ],
   "source": [
    "len(URL)"
   ]
  },
  {
   "cell_type": "code",
   "execution_count": 46,
   "metadata": {},
   "outputs": [
    {
     "data": {
      "text/plain": [
       "['https://github.com/topics/3d',\n",
       " 'https://github.com/topics/ajax',\n",
       " 'https://github.com/topics/algorithm',\n",
       " 'https://github.com/topics/amphp',\n",
       " 'https://github.com/topics/android']"
      ]
     },
     "execution_count": 46,
     "metadata": {},
     "output_type": "execute_result"
    }
   ],
   "source": [
    "URL[:5]"
   ]
  },
  {
   "cell_type": "markdown",
   "metadata": {},
   "source": [
    "Let's put this all together into a single function"
   ]
  },
  {
   "cell_type": "code",
   "execution_count": 47,
   "metadata": {},
   "outputs": [],
   "source": [
    "def scrape_topics():\n",
    "    topics_url = 'https://github.com/topics'\n",
    "    response = requests.get(topics_url)\n",
    "    #Check a successful response\n",
    "    if response.status_code != 200:\n",
    "        raise Exception('Failed to load page {}'.format(topic_url))\n",
    "\n",
    "    #Parse using Beautiful Soup\n",
    "    topic_doc = BeautifulSoup(response.text, 'html.parser')\n",
    "    \n",
    "    topics_dict = {\n",
    "        'title' : get_topic_titles(topic_doc),\n",
    "        'description' : get_topic_descs(topic_doc),\n",
    "        'url' : get_topic_urls(topic_doc)\n",
    "    }\n",
    "    return pd.DataFrame(topics_dict)"
   ]
  },
  {
   "cell_type": "code",
   "execution_count": null,
   "metadata": {},
   "outputs": [],
   "source": []
  },
  {
   "cell_type": "markdown",
   "metadata": {},
   "source": [
    "## Get the top repositories from a topic page\n",
    "\n",
    "- Download the topic page\n",
    "- Get the repository info such as username, repository name, stars and the repository url.\n"
   ]
  },
  {
   "cell_type": "code",
   "execution_count": 48,
   "metadata": {},
   "outputs": [],
   "source": [
    "def get_topic_page(topic_url):\n",
    "    #Download the page\n",
    "    response = requests.get(topic_url)\n",
    "    #Check a successful response\n",
    "    if response.status_code != 200:\n",
    "        raise Exception('Failed to load page {}'.format(topic_url))\n",
    "    #Parse using Beautiful Soup\n",
    "    topic_doc = BeautifulSoup(response.text, 'html.parser')\n",
    "    return topic_doc"
   ]
  },
  {
   "cell_type": "code",
   "execution_count": 49,
   "metadata": {},
   "outputs": [],
   "source": [
    "topic_doc = get_topic_page('https://github.com/topics/3d')"
   ]
  },
  {
   "cell_type": "markdown",
   "metadata": {},
   "source": [
    "To get the repo info, we can pick `h3` tags with the `class` : `f3 lh-condensed mb-0 mt-1 Link--primary`\n",
    "\n",
    "`h3` tag will have two `a` tags, which consist of username and repo name:\n",
    "\n",
    "![.](https://i.imgur.com/v1OO5f9.png)\n",
    "\n",
    "We can use the helper function `get_repo_info` to extract such details.\n",
    "\n",
    "We use another helper function `parse_star_count` to extract details related to number of stars in the integer format. "
   ]
  },
  {
   "cell_type": "code",
   "execution_count": 50,
   "metadata": {},
   "outputs": [],
   "source": [
    "def parse_star_count(stars_str):\n",
    "    stars_str= stars_str.strip()\n",
    "    if stars_str[-1] == 'k':\n",
    "        return int(float(stars_str[:-1]) * 1000)\n",
    "    return int(stars_str)"
   ]
  },
  {
   "cell_type": "code",
   "execution_count": 51,
   "metadata": {},
   "outputs": [],
   "source": [
    "def get_repo_info(h3_tag, star_tag):\n",
    "    #returns all the required info about the repository\n",
    "    a_tags = h3_tag.find_all('a')\n",
    "    username = a_tags[0].text.strip()\n",
    "    repo_name = a_tags[1].text.strip()\n",
    "    base_url = \"https://github.com\" \n",
    "    repo_url = base_url + a_tags[1]['href']\n",
    "    stars = parse_star_count(star_tag.text.strip())\n",
    "    return username, repo_name, stars, repo_url"
   ]
  },
  {
   "cell_type": "markdown",
   "metadata": {},
   "source": [
    "To get the star tags, we can pick `a` tags with the class: `social-count float-none`.\n",
    "\n",
    "![.](https://i.imgur.com/vM8oIJc.png)"
   ]
  },
  {
   "cell_type": "code",
   "execution_count": 52,
   "metadata": {},
   "outputs": [],
   "source": [
    "def get_topic_repos(topic_doc):\n",
    "    #Get H3 tags containing repo title, repo url and username\n",
    "    h3_selector = 'f3 color-text-secondary text-normal lh-condensed'\n",
    "    repo_tags = topic_doc.find_all('h3', {'class': h3_selector })\n",
    "    #get star tags\n",
    "    star_tags = topic_doc.find_all('a',{'class' : 'social-count float-none'})\n",
    "    \n",
    "    #get repo info\n",
    "    topics_repos_dict = {\n",
    "        'username' : [],\n",
    "        'repo_name' : [],\n",
    "        'stars' : [],\n",
    "        'repo_url' : []\n",
    "    }\n",
    "\n",
    "    for i in range(len(repo_tags)):\n",
    "        repo_info = get_repo_info(repo_tags[i], star_tags[i])\n",
    "        topics_repos_dict['username'].append(repo_info[0])\n",
    "        topics_repos_dict['repo_name'].append(repo_info[1])\n",
    "        topics_repos_dict['stars'].append(repo_info[2])\n",
    "        topics_repos_dict['repo_url'].append(repo_info[3])\n",
    "        \n",
    "    return pd.DataFrame(topics_repos_dict)"
   ]
  },
  {
   "cell_type": "code",
   "execution_count": 53,
   "metadata": {},
   "outputs": [
    {
     "data": {
      "text/html": [
       "<div>\n",
       "<style scoped>\n",
       "    .dataframe tbody tr th:only-of-type {\n",
       "        vertical-align: middle;\n",
       "    }\n",
       "\n",
       "    .dataframe tbody tr th {\n",
       "        vertical-align: top;\n",
       "    }\n",
       "\n",
       "    .dataframe thead th {\n",
       "        text-align: right;\n",
       "    }\n",
       "</style>\n",
       "<table border=\"1\" class=\"dataframe\">\n",
       "  <thead>\n",
       "    <tr style=\"text-align: right;\">\n",
       "      <th></th>\n",
       "      <th>username</th>\n",
       "      <th>repo_name</th>\n",
       "      <th>stars</th>\n",
       "      <th>repo_url</th>\n",
       "    </tr>\n",
       "  </thead>\n",
       "  <tbody>\n",
       "    <tr>\n",
       "      <th>0</th>\n",
       "      <td>mrdoob</td>\n",
       "      <td>three.js</td>\n",
       "      <td>73800</td>\n",
       "      <td>https://github.com/mrdoob/three.js</td>\n",
       "    </tr>\n",
       "    <tr>\n",
       "      <th>1</th>\n",
       "      <td>libgdx</td>\n",
       "      <td>libgdx</td>\n",
       "      <td>18800</td>\n",
       "      <td>https://github.com/libgdx/libgdx</td>\n",
       "    </tr>\n",
       "    <tr>\n",
       "      <th>2</th>\n",
       "      <td>pmndrs</td>\n",
       "      <td>react-three-fiber</td>\n",
       "      <td>14800</td>\n",
       "      <td>https://github.com/pmndrs/react-three-fiber</td>\n",
       "    </tr>\n",
       "    <tr>\n",
       "      <th>3</th>\n",
       "      <td>BabylonJS</td>\n",
       "      <td>Babylon.js</td>\n",
       "      <td>14700</td>\n",
       "      <td>https://github.com/BabylonJS/Babylon.js</td>\n",
       "    </tr>\n",
       "    <tr>\n",
       "      <th>4</th>\n",
       "      <td>aframevr</td>\n",
       "      <td>aframe</td>\n",
       "      <td>13000</td>\n",
       "      <td>https://github.com/aframevr/aframe</td>\n",
       "    </tr>\n",
       "    <tr>\n",
       "      <th>5</th>\n",
       "      <td>ssloy</td>\n",
       "      <td>tinyrenderer</td>\n",
       "      <td>11100</td>\n",
       "      <td>https://github.com/ssloy/tinyrenderer</td>\n",
       "    </tr>\n",
       "    <tr>\n",
       "      <th>6</th>\n",
       "      <td>lettier</td>\n",
       "      <td>3d-game-shaders-for-beginners</td>\n",
       "      <td>11000</td>\n",
       "      <td>https://github.com/lettier/3d-game-shaders-for...</td>\n",
       "    </tr>\n",
       "    <tr>\n",
       "      <th>7</th>\n",
       "      <td>FreeCAD</td>\n",
       "      <td>FreeCAD</td>\n",
       "      <td>9800</td>\n",
       "      <td>https://github.com/FreeCAD/FreeCAD</td>\n",
       "    </tr>\n",
       "    <tr>\n",
       "      <th>8</th>\n",
       "      <td>metafizzy</td>\n",
       "      <td>zdog</td>\n",
       "      <td>8600</td>\n",
       "      <td>https://github.com/metafizzy/zdog</td>\n",
       "    </tr>\n",
       "    <tr>\n",
       "      <th>9</th>\n",
       "      <td>CesiumGS</td>\n",
       "      <td>cesium</td>\n",
       "      <td>7400</td>\n",
       "      <td>https://github.com/CesiumGS/cesium</td>\n",
       "    </tr>\n",
       "    <tr>\n",
       "      <th>10</th>\n",
       "      <td>timzhang642</td>\n",
       "      <td>3D-Machine-Learning</td>\n",
       "      <td>7000</td>\n",
       "      <td>https://github.com/timzhang642/3D-Machine-Lear...</td>\n",
       "    </tr>\n",
       "    <tr>\n",
       "      <th>11</th>\n",
       "      <td>a1studmuffin</td>\n",
       "      <td>SpaceshipGenerator</td>\n",
       "      <td>6900</td>\n",
       "      <td>https://github.com/a1studmuffin/SpaceshipGener...</td>\n",
       "    </tr>\n",
       "    <tr>\n",
       "      <th>12</th>\n",
       "      <td>isl-org</td>\n",
       "      <td>Open3D</td>\n",
       "      <td>5300</td>\n",
       "      <td>https://github.com/isl-org/Open3D</td>\n",
       "    </tr>\n",
       "    <tr>\n",
       "      <th>13</th>\n",
       "      <td>spritejs</td>\n",
       "      <td>spritejs</td>\n",
       "      <td>4600</td>\n",
       "      <td>https://github.com/spritejs/spritejs</td>\n",
       "    </tr>\n",
       "    <tr>\n",
       "      <th>14</th>\n",
       "      <td>tensorspace-team</td>\n",
       "      <td>tensorspace</td>\n",
       "      <td>4500</td>\n",
       "      <td>https://github.com/tensorspace-team/tensorspace</td>\n",
       "    </tr>\n",
       "    <tr>\n",
       "      <th>15</th>\n",
       "      <td>jagenjo</td>\n",
       "      <td>webglstudio.js</td>\n",
       "      <td>4400</td>\n",
       "      <td>https://github.com/jagenjo/webglstudio.js</td>\n",
       "    </tr>\n",
       "    <tr>\n",
       "      <th>16</th>\n",
       "      <td>YadiraF</td>\n",
       "      <td>PRNet</td>\n",
       "      <td>4400</td>\n",
       "      <td>https://github.com/YadiraF/PRNet</td>\n",
       "    </tr>\n",
       "    <tr>\n",
       "      <th>17</th>\n",
       "      <td>AaronJackson</td>\n",
       "      <td>vrn</td>\n",
       "      <td>4400</td>\n",
       "      <td>https://github.com/AaronJackson/vrn</td>\n",
       "    </tr>\n",
       "    <tr>\n",
       "      <th>18</th>\n",
       "      <td>domlysz</td>\n",
       "      <td>BlenderGIS</td>\n",
       "      <td>4200</td>\n",
       "      <td>https://github.com/domlysz/BlenderGIS</td>\n",
       "    </tr>\n",
       "    <tr>\n",
       "      <th>19</th>\n",
       "      <td>openscad</td>\n",
       "      <td>openscad</td>\n",
       "      <td>4200</td>\n",
       "      <td>https://github.com/openscad/openscad</td>\n",
       "    </tr>\n",
       "    <tr>\n",
       "      <th>20</th>\n",
       "      <td>ssloy</td>\n",
       "      <td>tinyraytracer</td>\n",
       "      <td>3900</td>\n",
       "      <td>https://github.com/ssloy/tinyraytracer</td>\n",
       "    </tr>\n",
       "    <tr>\n",
       "      <th>21</th>\n",
       "      <td>mosra</td>\n",
       "      <td>magnum</td>\n",
       "      <td>3600</td>\n",
       "      <td>https://github.com/mosra/magnum</td>\n",
       "    </tr>\n",
       "    <tr>\n",
       "      <th>22</th>\n",
       "      <td>google</td>\n",
       "      <td>model-viewer</td>\n",
       "      <td>3300</td>\n",
       "      <td>https://github.com/google/model-viewer</td>\n",
       "    </tr>\n",
       "    <tr>\n",
       "      <th>23</th>\n",
       "      <td>blender</td>\n",
       "      <td>blender</td>\n",
       "      <td>3200</td>\n",
       "      <td>https://github.com/blender/blender</td>\n",
       "    </tr>\n",
       "    <tr>\n",
       "      <th>24</th>\n",
       "      <td>gfxfundamentals</td>\n",
       "      <td>webgl-fundamentals</td>\n",
       "      <td>3100</td>\n",
       "      <td>https://github.com/gfxfundamentals/webgl-funda...</td>\n",
       "    </tr>\n",
       "    <tr>\n",
       "      <th>25</th>\n",
       "      <td>cleardusk</td>\n",
       "      <td>3DDFA</td>\n",
       "      <td>3100</td>\n",
       "      <td>https://github.com/cleardusk/3DDFA</td>\n",
       "    </tr>\n",
       "    <tr>\n",
       "      <th>26</th>\n",
       "      <td>jasonlong</td>\n",
       "      <td>isometric-contributions</td>\n",
       "      <td>3000</td>\n",
       "      <td>https://github.com/jasonlong/isometric-contrib...</td>\n",
       "    </tr>\n",
       "    <tr>\n",
       "      <th>27</th>\n",
       "      <td>rg3dengine</td>\n",
       "      <td>rg3d</td>\n",
       "      <td>2700</td>\n",
       "      <td>https://github.com/rg3dengine/rg3d</td>\n",
       "    </tr>\n",
       "    <tr>\n",
       "      <th>28</th>\n",
       "      <td>antvis</td>\n",
       "      <td>L7</td>\n",
       "      <td>2400</td>\n",
       "      <td>https://github.com/antvis/L7</td>\n",
       "    </tr>\n",
       "    <tr>\n",
       "      <th>29</th>\n",
       "      <td>cnr-isti-vclab</td>\n",
       "      <td>meshlab</td>\n",
       "      <td>2400</td>\n",
       "      <td>https://github.com/cnr-isti-vclab/meshlab</td>\n",
       "    </tr>\n",
       "  </tbody>\n",
       "</table>\n",
       "</div>"
      ],
      "text/plain": [
       "            username                      repo_name  stars  \\\n",
       "0             mrdoob                       three.js  73800   \n",
       "1             libgdx                         libgdx  18800   \n",
       "2             pmndrs              react-three-fiber  14800   \n",
       "3          BabylonJS                     Babylon.js  14700   \n",
       "4           aframevr                         aframe  13000   \n",
       "5              ssloy                   tinyrenderer  11100   \n",
       "6            lettier  3d-game-shaders-for-beginners  11000   \n",
       "7            FreeCAD                        FreeCAD   9800   \n",
       "8          metafizzy                           zdog   8600   \n",
       "9           CesiumGS                         cesium   7400   \n",
       "10       timzhang642            3D-Machine-Learning   7000   \n",
       "11      a1studmuffin             SpaceshipGenerator   6900   \n",
       "12           isl-org                         Open3D   5300   \n",
       "13          spritejs                       spritejs   4600   \n",
       "14  tensorspace-team                    tensorspace   4500   \n",
       "15           jagenjo                 webglstudio.js   4400   \n",
       "16           YadiraF                          PRNet   4400   \n",
       "17      AaronJackson                            vrn   4400   \n",
       "18           domlysz                     BlenderGIS   4200   \n",
       "19          openscad                       openscad   4200   \n",
       "20             ssloy                  tinyraytracer   3900   \n",
       "21             mosra                         magnum   3600   \n",
       "22            google                   model-viewer   3300   \n",
       "23           blender                        blender   3200   \n",
       "24   gfxfundamentals             webgl-fundamentals   3100   \n",
       "25         cleardusk                          3DDFA   3100   \n",
       "26         jasonlong        isometric-contributions   3000   \n",
       "27        rg3dengine                           rg3d   2700   \n",
       "28            antvis                             L7   2400   \n",
       "29    cnr-isti-vclab                        meshlab   2400   \n",
       "\n",
       "                                             repo_url  \n",
       "0                  https://github.com/mrdoob/three.js  \n",
       "1                    https://github.com/libgdx/libgdx  \n",
       "2         https://github.com/pmndrs/react-three-fiber  \n",
       "3             https://github.com/BabylonJS/Babylon.js  \n",
       "4                  https://github.com/aframevr/aframe  \n",
       "5               https://github.com/ssloy/tinyrenderer  \n",
       "6   https://github.com/lettier/3d-game-shaders-for...  \n",
       "7                  https://github.com/FreeCAD/FreeCAD  \n",
       "8                   https://github.com/metafizzy/zdog  \n",
       "9                  https://github.com/CesiumGS/cesium  \n",
       "10  https://github.com/timzhang642/3D-Machine-Lear...  \n",
       "11  https://github.com/a1studmuffin/SpaceshipGener...  \n",
       "12                  https://github.com/isl-org/Open3D  \n",
       "13               https://github.com/spritejs/spritejs  \n",
       "14    https://github.com/tensorspace-team/tensorspace  \n",
       "15          https://github.com/jagenjo/webglstudio.js  \n",
       "16                   https://github.com/YadiraF/PRNet  \n",
       "17                https://github.com/AaronJackson/vrn  \n",
       "18              https://github.com/domlysz/BlenderGIS  \n",
       "19               https://github.com/openscad/openscad  \n",
       "20             https://github.com/ssloy/tinyraytracer  \n",
       "21                    https://github.com/mosra/magnum  \n",
       "22             https://github.com/google/model-viewer  \n",
       "23                 https://github.com/blender/blender  \n",
       "24  https://github.com/gfxfundamentals/webgl-funda...  \n",
       "25                 https://github.com/cleardusk/3DDFA  \n",
       "26  https://github.com/jasonlong/isometric-contrib...  \n",
       "27                 https://github.com/rg3dengine/rg3d  \n",
       "28                       https://github.com/antvis/L7  \n",
       "29          https://github.com/cnr-isti-vclab/meshlab  "
      ]
     },
     "execution_count": 53,
     "metadata": {},
     "output_type": "execute_result"
    }
   ],
   "source": [
    "get_topic_repos(topic_doc)"
   ]
  },
  {
   "cell_type": "code",
   "execution_count": 54,
   "metadata": {},
   "outputs": [],
   "source": [
    "import os\n",
    "def scrape_topic(topic_url, path):\n",
    "    if os.path.exists(path):\n",
    "        print(\"The {} already exists, skipping\".format(path))\n",
    "        return\n",
    "    topic_df = get_topic_repos(get_topic_page(topic_url))\n",
    "    topic_df.to_csv(path, index = None)"
   ]
  },
  {
   "cell_type": "code",
   "execution_count": 55,
   "metadata": {},
   "outputs": [
    {
     "name": "stdout",
     "output_type": "stream",
     "text": [
      "The 3d.csv already exists, skipping\n"
     ]
    }
   ],
   "source": [
    "scrape_topic('https://github.com/topics/3d', '3d.csv')"
   ]
  },
  {
   "cell_type": "markdown",
   "metadata": {},
   "source": [
    "Ne file created:\n",
    "\n",
    "![.](https://i.imgur.com/ELRsBJC.png)"
   ]
  },
  {
   "cell_type": "code",
   "execution_count": null,
   "metadata": {},
   "outputs": [],
   "source": []
  },
  {
   "cell_type": "markdown",
   "metadata": {},
   "source": [
    "## Putting it all together\n",
    "\n",
    "- We have a function to get the list of topics.\n",
    "- We have a function to create a CSV file for scraped repos from a topic page.\n",
    "- Lets create a function to put them together.\n"
   ]
  },
  {
   "cell_type": "code",
   "execution_count": 56,
   "metadata": {},
   "outputs": [],
   "source": [
    "def scrape_topics_repos():\n",
    "    print(\"Scraping list of topics\")\n",
    "    topics_df = scrape_topics()\n",
    "    \n",
    "    os.makedirs('data', exist_ok = 'True')\n",
    "    \n",
    "    for index, row in topics_df.iterrows():\n",
    "        print('Scraping top repositories for \"{}\"'.format(row['title']))\n",
    "        scrape_topic(row['url'], 'data/{}.csv'.format(row['title']))"
   ]
  },
  {
   "cell_type": "markdown",
   "metadata": {},
   "source": [
    "Let's run in to scrape the top repos for all the topics on the first page of https://github.com/topics "
   ]
  },
  {
   "cell_type": "code",
   "execution_count": 57,
   "metadata": {},
   "outputs": [
    {
     "name": "stdout",
     "output_type": "stream",
     "text": [
      "Scraping list of topics\n",
      "Scraping top repositories for \"3D\"\n",
      "The data/3D.csv already exists, skipping\n",
      "Scraping top repositories for \"Ajax\"\n",
      "The data/Ajax.csv already exists, skipping\n",
      "Scraping top repositories for \"Algorithm\"\n",
      "The data/Algorithm.csv already exists, skipping\n",
      "Scraping top repositories for \"Amp\"\n",
      "The data/Amp.csv already exists, skipping\n",
      "Scraping top repositories for \"Android\"\n",
      "The data/Android.csv already exists, skipping\n",
      "Scraping top repositories for \"Angular\"\n",
      "The data/Angular.csv already exists, skipping\n",
      "Scraping top repositories for \"Ansible\"\n",
      "The data/Ansible.csv already exists, skipping\n",
      "Scraping top repositories for \"API\"\n",
      "The data/API.csv already exists, skipping\n",
      "Scraping top repositories for \"Arduino\"\n",
      "The data/Arduino.csv already exists, skipping\n",
      "Scraping top repositories for \"ASP.NET\"\n",
      "The data/ASP.NET.csv already exists, skipping\n",
      "Scraping top repositories for \"Atom\"\n",
      "The data/Atom.csv already exists, skipping\n",
      "Scraping top repositories for \"Awesome Lists\"\n",
      "The data/Awesome Lists.csv already exists, skipping\n",
      "Scraping top repositories for \"Amazon Web Services\"\n",
      "The data/Amazon Web Services.csv already exists, skipping\n",
      "Scraping top repositories for \"Azure\"\n",
      "The data/Azure.csv already exists, skipping\n",
      "Scraping top repositories for \"Babel\"\n",
      "The data/Babel.csv already exists, skipping\n",
      "Scraping top repositories for \"Bash\"\n",
      "The data/Bash.csv already exists, skipping\n",
      "Scraping top repositories for \"Bitcoin\"\n",
      "The data/Bitcoin.csv already exists, skipping\n",
      "Scraping top repositories for \"Bootstrap\"\n",
      "The data/Bootstrap.csv already exists, skipping\n",
      "Scraping top repositories for \"Bot\"\n",
      "The data/Bot.csv already exists, skipping\n",
      "Scraping top repositories for \"C\"\n",
      "The data/C.csv already exists, skipping\n",
      "Scraping top repositories for \"Chrome\"\n",
      "The data/Chrome.csv already exists, skipping\n",
      "Scraping top repositories for \"Chrome extension\"\n",
      "The data/Chrome extension.csv already exists, skipping\n",
      "Scraping top repositories for \"Command line interface\"\n",
      "Scraping top repositories for \"Clojure\"\n",
      "Scraping top repositories for \"Code quality\"\n",
      "Scraping top repositories for \"Code review\"\n",
      "Scraping top repositories for \"Compiler\"\n",
      "Scraping top repositories for \"Continuous integration\"\n",
      "Scraping top repositories for \"COVID-19\"\n",
      "Scraping top repositories for \"C++\"\n"
     ]
    }
   ],
   "source": [
    "scrape_topics_repos()"
   ]
  },
  {
   "cell_type": "markdown",
   "metadata": {},
   "source": [
    "We can check that CSVs are created properly\n",
    "\n",
    "-read a CSV using Pandas"
   ]
  },
  {
   "cell_type": "code",
   "execution_count": 58,
   "metadata": {},
   "outputs": [
    {
     "data": {
      "text/html": [
       "<div>\n",
       "<style scoped>\n",
       "    .dataframe tbody tr th:only-of-type {\n",
       "        vertical-align: middle;\n",
       "    }\n",
       "\n",
       "    .dataframe tbody tr th {\n",
       "        vertical-align: top;\n",
       "    }\n",
       "\n",
       "    .dataframe thead th {\n",
       "        text-align: right;\n",
       "    }\n",
       "</style>\n",
       "<table border=\"1\" class=\"dataframe\">\n",
       "  <thead>\n",
       "    <tr style=\"text-align: right;\">\n",
       "      <th></th>\n",
       "      <th>username</th>\n",
       "      <th>repo_name</th>\n",
       "      <th>stars</th>\n",
       "      <th>repo_url</th>\n",
       "    </tr>\n",
       "  </thead>\n",
       "  <tbody>\n",
       "    <tr>\n",
       "      <th>0</th>\n",
       "      <td>jwasham</td>\n",
       "      <td>coding-interview-university</td>\n",
       "      <td>190000</td>\n",
       "      <td>https://github.com/jwasham/coding-interview-un...</td>\n",
       "    </tr>\n",
       "    <tr>\n",
       "      <th>1</th>\n",
       "      <td>CyC2018</td>\n",
       "      <td>CS-Notes</td>\n",
       "      <td>137000</td>\n",
       "      <td>https://github.com/CyC2018/CS-Notes</td>\n",
       "    </tr>\n",
       "    <tr>\n",
       "      <th>2</th>\n",
       "      <td>trekhleb</td>\n",
       "      <td>javascript-algorithms</td>\n",
       "      <td>118000</td>\n",
       "      <td>https://github.com/trekhleb/javascript-algorithms</td>\n",
       "    </tr>\n",
       "    <tr>\n",
       "      <th>3</th>\n",
       "      <td>TheAlgorithms</td>\n",
       "      <td>Python</td>\n",
       "      <td>116000</td>\n",
       "      <td>https://github.com/TheAlgorithms/Python</td>\n",
       "    </tr>\n",
       "    <tr>\n",
       "      <th>4</th>\n",
       "      <td>yangshun</td>\n",
       "      <td>tech-interview-handbook</td>\n",
       "      <td>56700</td>\n",
       "      <td>https://github.com/yangshun/tech-interview-han...</td>\n",
       "    </tr>\n",
       "    <tr>\n",
       "      <th>5</th>\n",
       "      <td>kdn251</td>\n",
       "      <td>interviews</td>\n",
       "      <td>53600</td>\n",
       "      <td>https://github.com/kdn251/interviews</td>\n",
       "    </tr>\n",
       "    <tr>\n",
       "      <th>6</th>\n",
       "      <td>azl397985856</td>\n",
       "      <td>leetcode</td>\n",
       "      <td>43800</td>\n",
       "      <td>https://github.com/azl397985856/leetcode</td>\n",
       "    </tr>\n",
       "    <tr>\n",
       "      <th>7</th>\n",
       "      <td>algorithm-visualizer</td>\n",
       "      <td>algorithm-visualizer</td>\n",
       "      <td>35300</td>\n",
       "      <td>https://github.com/algorithm-visualizer/algori...</td>\n",
       "    </tr>\n",
       "    <tr>\n",
       "      <th>8</th>\n",
       "      <td>crossoverJie</td>\n",
       "      <td>JCSprout</td>\n",
       "      <td>26300</td>\n",
       "      <td>https://github.com/crossoverJie/JCSprout</td>\n",
       "    </tr>\n",
       "    <tr>\n",
       "      <th>9</th>\n",
       "      <td>donnemartin</td>\n",
       "      <td>interactive-coding-challenges</td>\n",
       "      <td>23500</td>\n",
       "      <td>https://github.com/donnemartin/interactive-cod...</td>\n",
       "    </tr>\n",
       "    <tr>\n",
       "      <th>10</th>\n",
       "      <td>huihut</td>\n",
       "      <td>interview</td>\n",
       "      <td>20100</td>\n",
       "      <td>https://github.com/huihut/interview</td>\n",
       "    </tr>\n",
       "    <tr>\n",
       "      <th>11</th>\n",
       "      <td>halfrost</td>\n",
       "      <td>LeetCode-Go</td>\n",
       "      <td>19800</td>\n",
       "      <td>https://github.com/halfrost/LeetCode-Go</td>\n",
       "    </tr>\n",
       "    <tr>\n",
       "      <th>12</th>\n",
       "      <td>keon</td>\n",
       "      <td>algorithms</td>\n",
       "      <td>19600</td>\n",
       "      <td>https://github.com/keon/algorithms</td>\n",
       "    </tr>\n",
       "    <tr>\n",
       "      <th>13</th>\n",
       "      <td>trekhleb</td>\n",
       "      <td>homemade-machine-learning</td>\n",
       "      <td>18200</td>\n",
       "      <td>https://github.com/trekhleb/homemade-machine-l...</td>\n",
       "    </tr>\n",
       "    <tr>\n",
       "      <th>14</th>\n",
       "      <td>mxgmn</td>\n",
       "      <td>WaveFunctionCollapse</td>\n",
       "      <td>16800</td>\n",
       "      <td>https://github.com/mxgmn/WaveFunctionCollapse</td>\n",
       "    </tr>\n",
       "    <tr>\n",
       "      <th>15</th>\n",
       "      <td>youngyangyang04</td>\n",
       "      <td>leetcode-master</td>\n",
       "      <td>15100</td>\n",
       "      <td>https://github.com/youngyangyang04/leetcode-ma...</td>\n",
       "    </tr>\n",
       "    <tr>\n",
       "      <th>16</th>\n",
       "      <td>TheAlgorithms</td>\n",
       "      <td>C-Plus-Plus</td>\n",
       "      <td>13900</td>\n",
       "      <td>https://github.com/TheAlgorithms/C-Plus-Plus</td>\n",
       "    </tr>\n",
       "    <tr>\n",
       "      <th>17</th>\n",
       "      <td>AtsushiSakai</td>\n",
       "      <td>PythonRobotics</td>\n",
       "      <td>13000</td>\n",
       "      <td>https://github.com/AtsushiSakai/PythonRobotics</td>\n",
       "    </tr>\n",
       "    <tr>\n",
       "      <th>18</th>\n",
       "      <td>OpenGenus</td>\n",
       "      <td>cosmos</td>\n",
       "      <td>12700</td>\n",
       "      <td>https://github.com/OpenGenus/cosmos</td>\n",
       "    </tr>\n",
       "    <tr>\n",
       "      <th>19</th>\n",
       "      <td>greyireland</td>\n",
       "      <td>algorithm-pattern</td>\n",
       "      <td>12500</td>\n",
       "      <td>https://github.com/greyireland/algorithm-pattern</td>\n",
       "    </tr>\n",
       "    <tr>\n",
       "      <th>20</th>\n",
       "      <td>TheAlgorithms</td>\n",
       "      <td>Javascript</td>\n",
       "      <td>12100</td>\n",
       "      <td>https://github.com/TheAlgorithms/Javascript</td>\n",
       "    </tr>\n",
       "    <tr>\n",
       "      <th>21</th>\n",
       "      <td>williamfiset</td>\n",
       "      <td>Algorithms</td>\n",
       "      <td>10700</td>\n",
       "      <td>https://github.com/williamfiset/Algorithms</td>\n",
       "    </tr>\n",
       "    <tr>\n",
       "      <th>22</th>\n",
       "      <td>apachecn</td>\n",
       "      <td>apachecn-algo-zh</td>\n",
       "      <td>10400</td>\n",
       "      <td>https://github.com/apachecn/apachecn-algo-zh</td>\n",
       "    </tr>\n",
       "    <tr>\n",
       "      <th>23</th>\n",
       "      <td>halfrost</td>\n",
       "      <td>Halfrost-Field</td>\n",
       "      <td>9400</td>\n",
       "      <td>https://github.com/halfrost/Halfrost-Field</td>\n",
       "    </tr>\n",
       "    <tr>\n",
       "      <th>24</th>\n",
       "      <td>lnishan</td>\n",
       "      <td>awesome-competitive-programming</td>\n",
       "      <td>8700</td>\n",
       "      <td>https://github.com/lnishan/awesome-competitive...</td>\n",
       "    </tr>\n",
       "    <tr>\n",
       "      <th>25</th>\n",
       "      <td>Blankj</td>\n",
       "      <td>awesome-java-leetcode</td>\n",
       "      <td>8200</td>\n",
       "      <td>https://github.com/Blankj/awesome-java-leetcode</td>\n",
       "    </tr>\n",
       "    <tr>\n",
       "      <th>26</th>\n",
       "      <td>jeffgerickson</td>\n",
       "      <td>algorithms</td>\n",
       "      <td>7200</td>\n",
       "      <td>https://github.com/jeffgerickson/algorithms</td>\n",
       "    </tr>\n",
       "    <tr>\n",
       "      <th>27</th>\n",
       "      <td>mgechev</td>\n",
       "      <td>javascript-algorithms</td>\n",
       "      <td>6800</td>\n",
       "      <td>https://github.com/mgechev/javascript-algorithms</td>\n",
       "    </tr>\n",
       "    <tr>\n",
       "      <th>28</th>\n",
       "      <td>LeetCode-OpenSource</td>\n",
       "      <td>vscode-leetcode</td>\n",
       "      <td>6700</td>\n",
       "      <td>https://github.com/LeetCode-OpenSource/vscode-...</td>\n",
       "    </tr>\n",
       "    <tr>\n",
       "      <th>29</th>\n",
       "      <td>OlafenwaMoses</td>\n",
       "      <td>ImageAI</td>\n",
       "      <td>6400</td>\n",
       "      <td>https://github.com/OlafenwaMoses/ImageAI</td>\n",
       "    </tr>\n",
       "  </tbody>\n",
       "</table>\n",
       "</div>"
      ],
      "text/plain": [
       "                username                        repo_name   stars  \\\n",
       "0                jwasham      coding-interview-university  190000   \n",
       "1                CyC2018                         CS-Notes  137000   \n",
       "2               trekhleb            javascript-algorithms  118000   \n",
       "3          TheAlgorithms                           Python  116000   \n",
       "4               yangshun          tech-interview-handbook   56700   \n",
       "5                 kdn251                       interviews   53600   \n",
       "6           azl397985856                         leetcode   43800   \n",
       "7   algorithm-visualizer             algorithm-visualizer   35300   \n",
       "8           crossoverJie                         JCSprout   26300   \n",
       "9            donnemartin    interactive-coding-challenges   23500   \n",
       "10                huihut                        interview   20100   \n",
       "11              halfrost                      LeetCode-Go   19800   \n",
       "12                  keon                       algorithms   19600   \n",
       "13              trekhleb        homemade-machine-learning   18200   \n",
       "14                 mxgmn             WaveFunctionCollapse   16800   \n",
       "15       youngyangyang04                  leetcode-master   15100   \n",
       "16         TheAlgorithms                      C-Plus-Plus   13900   \n",
       "17          AtsushiSakai                   PythonRobotics   13000   \n",
       "18             OpenGenus                           cosmos   12700   \n",
       "19           greyireland                algorithm-pattern   12500   \n",
       "20         TheAlgorithms                       Javascript   12100   \n",
       "21          williamfiset                       Algorithms   10700   \n",
       "22              apachecn                 apachecn-algo-zh   10400   \n",
       "23              halfrost                   Halfrost-Field    9400   \n",
       "24               lnishan  awesome-competitive-programming    8700   \n",
       "25                Blankj            awesome-java-leetcode    8200   \n",
       "26         jeffgerickson                       algorithms    7200   \n",
       "27               mgechev            javascript-algorithms    6800   \n",
       "28   LeetCode-OpenSource                  vscode-leetcode    6700   \n",
       "29         OlafenwaMoses                          ImageAI    6400   \n",
       "\n",
       "                                             repo_url  \n",
       "0   https://github.com/jwasham/coding-interview-un...  \n",
       "1                 https://github.com/CyC2018/CS-Notes  \n",
       "2   https://github.com/trekhleb/javascript-algorithms  \n",
       "3             https://github.com/TheAlgorithms/Python  \n",
       "4   https://github.com/yangshun/tech-interview-han...  \n",
       "5                https://github.com/kdn251/interviews  \n",
       "6            https://github.com/azl397985856/leetcode  \n",
       "7   https://github.com/algorithm-visualizer/algori...  \n",
       "8            https://github.com/crossoverJie/JCSprout  \n",
       "9   https://github.com/donnemartin/interactive-cod...  \n",
       "10                https://github.com/huihut/interview  \n",
       "11            https://github.com/halfrost/LeetCode-Go  \n",
       "12                 https://github.com/keon/algorithms  \n",
       "13  https://github.com/trekhleb/homemade-machine-l...  \n",
       "14      https://github.com/mxgmn/WaveFunctionCollapse  \n",
       "15  https://github.com/youngyangyang04/leetcode-ma...  \n",
       "16       https://github.com/TheAlgorithms/C-Plus-Plus  \n",
       "17     https://github.com/AtsushiSakai/PythonRobotics  \n",
       "18                https://github.com/OpenGenus/cosmos  \n",
       "19   https://github.com/greyireland/algorithm-pattern  \n",
       "20        https://github.com/TheAlgorithms/Javascript  \n",
       "21         https://github.com/williamfiset/Algorithms  \n",
       "22       https://github.com/apachecn/apachecn-algo-zh  \n",
       "23         https://github.com/halfrost/Halfrost-Field  \n",
       "24  https://github.com/lnishan/awesome-competitive...  \n",
       "25    https://github.com/Blankj/awesome-java-leetcode  \n",
       "26        https://github.com/jeffgerickson/algorithms  \n",
       "27   https://github.com/mgechev/javascript-algorithms  \n",
       "28  https://github.com/LeetCode-OpenSource/vscode-...  \n",
       "29           https://github.com/OlafenwaMoses/ImageAI  "
      ]
     },
     "execution_count": 58,
     "metadata": {},
     "output_type": "execute_result"
    }
   ],
   "source": [
    "pd.read_csv('data/Algorithm.csv')"
   ]
  },
  {
   "cell_type": "code",
   "execution_count": 59,
   "metadata": {},
   "outputs": [],
   "source": [
    "!pip install jovian --upgrade --quiet"
   ]
  },
  {
   "cell_type": "code",
   "execution_count": 60,
   "metadata": {},
   "outputs": [],
   "source": [
    "import jovian"
   ]
  },
  {
   "cell_type": "code",
   "execution_count": null,
   "metadata": {},
   "outputs": [
    {
     "data": {
      "application/javascript": [
       "window.require && require([\"base/js/namespace\"],function(Jupyter){Jupyter.notebook.save_checkpoint()})"
      ],
      "text/plain": [
       "<IPython.core.display.Javascript object>"
      ]
     },
     "metadata": {},
     "output_type": "display_data"
    }
   ],
   "source": [
    "# Execute this to save new versions of the notebook\n",
    "jovian.commit(project=\"scraping-github-topics-repositories\")"
   ]
  },
  {
   "cell_type": "markdown",
   "metadata": {},
   "source": [
    "## References and Future Work\n",
    "\n",
    "In this project I have scraped Github top repositories based on the trending topics. \n",
    "\n",
    "The project is a part of this tutorial by Jovian:\n",
    "    https://www.youtube.com/watch?v=RKsLLG-bzEY\n",
    "    \n",
    "Ideas for future work:\n",
    "- I have scraped only 30 topics, I will try to scrape all the featured topics from GitHub.\n",
    "- I will try to include most forked repositories in the future."
   ]
  },
  {
   "cell_type": "code",
   "execution_count": null,
   "metadata": {},
   "outputs": [],
   "source": []
  },
  {
   "cell_type": "code",
   "execution_count": null,
   "metadata": {},
   "outputs": [],
   "source": []
  },
  {
   "cell_type": "code",
   "execution_count": null,
   "metadata": {},
   "outputs": [],
   "source": []
  }
 ],
 "metadata": {
  "language_info": {
   "codemirror_mode": {
    "name": "ipython",
    "version": 3
   },
   "file_extension": ".py",
   "mimetype": "text/x-python",
   "name": "python",
   "nbconvert_exporter": "python",
   "pygments_lexer": "ipython3",
   "version": "3.9.6"
  }
 },
 "nbformat": 4,
 "nbformat_minor": 2
}